{
 "cells": [
  {
   "cell_type": "markdown",
   "metadata": {},
   "source": [
    "#### Supervised Learning : Naive Bayes Classification (Gaussian Naive Bayes)"
   ]
  },
  {
   "cell_type": "raw",
   "metadata": {
    "vscode": {
     "languageId": "raw"
    }
   },
   "source": [
    "### Types of Naive Bayes Classifiers\n",
    "\n",
    "1. **Gaussian Naive Bayes**:\n",
    "   - Assumes that features follow a Gaussian (normal) distribution.\n",
    "   - Used for continuous data (e.g., height, weight).\n",
    "\n",
    "2. **Multinomial Naive Bayes**:\n",
    "   - Assumes features are counts or frequencies.\n",
    "   - Used in text classification (e.g., spam detection).\n",
    "\n",
    "3. **Bernoulli Naive Bayes**:\n",
    "   - Assumes binary-valued features.\n",
    "   - Used for binary data (e.g., presence or absence of words in text)."
   ]
  },
  {
   "cell_type": "raw",
   "metadata": {
    "vscode": {
     "languageId": "raw"
    }
   },
   "source": [
    "# Make sure you have pandas,matplotlib and seaborn installed "
   ]
  },
  {
   "cell_type": "markdown",
   "metadata": {},
   "source": [
    "Visualizing the data set to decide which ML model should be used ?"
   ]
  },
  {
   "cell_type": "code",
   "execution_count": null,
   "metadata": {},
   "outputs": [],
   "source": [
    "import pandas as pd\n",
    "import seaborn as sns\n",
    "import matplotlib.pyplot as plt\n",
    "\n",
    "# Read the data\n",
    "data = pd.read_csv('NaiveBayesClassificationData.csv')\n",
    "\n",
    "# Separate features and target\n",
    "features = data[['glucose','bloodpressure']]\n",
    "target = data['diabetes']\n",
    "\n",
    "# Create visualization using seaborn\n",
    "plt.figure(figsize=(15, 10))\n",
    "\n",
    "sns.scatterplot(data=data,                # Specifies the DataFrame to use for the plot (e.g., 'data').\n",
    "                x='glucose',              # Sets the 'glucose' column as the x-axis values.\n",
    "                y='bloodpressure',        # Sets the 'bloodpressure' column as the y-axis values.\n",
    "                hue='diabetes',           # Colors the points based on the 'diabetes' column (e.g., categories like Yes/No).\n",
    "                style='diabetes',         # Varies the marker style (e.g., circle, square) based on the 'diabetes' column.\n",
    "                s=100,                    # Sets the size of the markers (points) to 100.\n",
    "                alpha=0.6)                # Adjusts the transparency of the markers (0 = fully transparent, 1 = fully opaque).\n",
    "\n",
    "plt.title('Diabetes Classification Scatter Plot')\n",
    "plt.show()"
   ]
  },
  {
   "cell_type": "markdown",
   "metadata": {},
   "source": [
    "As we can see that the points of the scatter-plot are divided into two sub sections that is, diabetic {1} and non-diabetic {0} hence we shall opt for a Gaussian Naive Bayes Classification Model to predict the value of continuous \"unseen\" data. "
   ]
  },
  {
   "cell_type": "code",
   "execution_count": null,
   "metadata": {},
   "outputs": [],
   "source": [
    "from sklearn.model_selection import train_test_split\n",
    "from sklearn.naive_bayes import GaussianNB\n",
    "\n",
    "# Split the data into training and testing sets\n",
    "x_train, x_test, y_train, y_test = train_test_split(features.values, target)\n",
    "\n",
    "# Create and train the Naive Bayes classifier\n",
    "model = GaussianNB()\n",
    "model.fit(x_train, y_train)"
   ]
  },
  {
   "cell_type": "markdown",
   "metadata": {},
   "source": [
    "Model is ready !! Now lets predict some values using ML"
   ]
  },
  {
   "cell_type": "raw",
   "metadata": {
    "vscode": {
     "languageId": "raw"
    }
   },
   "source": [
    "    Predict whether a person has diabetes based on glucose and blood pressure levels.\n",
    "\n",
    "    Parameters:\n",
    "    - glucose (float): Glucose level of the person.\n",
    "    - bloodpressure (float): Blood pressure level of the person.\n",
    "\n",
    "    Returns:\n",
    "    - str: Predicted class (e.g., 'Yes' or 'No') indicating diabetes presence."
   ]
  },
  {
   "cell_type": "raw",
   "metadata": {
    "vscode": {
     "languageId": "raw"
    }
   },
   "source": [
    "The Core Formula:\n",
    "\n",
    "P(Diabetes | Glucose, BP) = P(Glucose, BP | Diabetes) × P(Diabetes)\n",
    "                           ----------------------------------------\n",
    "                                    P(Glucose, BP)\n",
    "\n",
    "Likelihood Calculation:\n",
    "For each feature (Glucose, BP), we calculate how likely these values are for diabetic and non-diabetic patients using the\n",
    "\n",
    "Gaussian formula: P(x) = (1/√(2π×σ²)) × e^(-(x-μ)²/(2σ²))\n",
    "\n",
    "Where:\n",
    "\n",
    "x is the patient's value\n",
    "μ is the mean for that class\n",
    "σ² is the variance"
   ]
  },
  {
   "cell_type": "code",
   "execution_count": null,
   "metadata": {},
   "outputs": [],
   "source": [
    "# Prediction function\n",
    "def predict_diabetes(glucose, bloodpressure):\n",
    "    \n",
    "    glucose = float(glucose)\n",
    "    bloodpressure = float(bloodpressure)\n",
    "    \n",
    "    # Make a prediction using the trained model\n",
    "    prediction = model.predict([[glucose, bloodpressure]])\n",
    "    if prediction[0]==0:\n",
    "        return \"Non-Diabetic\"\n",
    "    else :\n",
    "        return \"Diabetic\"\n",
    "    \n",
    "\n",
    "# Example usage\n",
    "glucose_input = input(\"Enter glucose level: \")\n",
    "bloodpressure_input = input(\"Enter blood pressure level: \")\n",
    "print(\"Prediction:\", predict_diabetes(glucose_input, bloodpressure_input))\n"
   ]
  },
  {
   "cell_type": "markdown",
   "metadata": {},
   "source": [
    "Evaluation of Model Accuracy and genrating Classification Report"
   ]
  },
  {
   "cell_type": "code",
   "execution_count": null,
   "metadata": {},
   "outputs": [],
   "source": [
    "from sklearn.metrics import classification_report, accuracy_score\n",
    "\n",
    "# Make predictions\n",
    "y_pred = model.predict(x_test)\n",
    "\n",
    "# Calculate and print the accuracy score\n",
    "accuracy = accuracy_score(y_test, y_pred)\n",
    "print('Accuracy Score: ', round(accuracy,2)*100,\"%\")\n",
    "\n",
    "# Print detailed classification report\n",
    "print('\\nClassification Report:')\n",
    "print(classification_report(y_test, y_pred))"
   ]
  }
 ],
 "metadata": {
  "kernelspec": {
   "display_name": "Python 3",
   "language": "python",
   "name": "python3"
  },
  "language_info": {
   "codemirror_mode": {
    "name": "ipython",
    "version": 3
   },
   "file_extension": ".py",
   "mimetype": "text/x-python",
   "name": "python",
   "nbconvert_exporter": "python",
   "pygments_lexer": "ipython3",
   "version": "3.12.4"
  }
 },
 "nbformat": 4,
 "nbformat_minor": 2
}
